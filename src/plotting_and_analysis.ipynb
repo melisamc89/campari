{
 "cells": [
  {
   "cell_type": "markdown",
   "id": "6e02b13e",
   "metadata": {},
   "source": [
    "### Plotting and analysis of cell's characteristics\n",
    "\n",
    "Here we import the cell data base and plot characteristics or do further analysis."
   ]
  },
  {
   "cell_type": "code",
   "execution_count": 1,
   "id": "3c2a0a8f",
   "metadata": {},
   "outputs": [],
   "source": [
    "import numpy as np\n",
    "import time, os, sys\n",
    "from urllib.parse import urlparse\n",
    "import matplotlib.pyplot as plt\n",
    "import matplotlib as mpl\n",
    "from cellpose import utils, io\n",
    "import czifile as czifile\n",
    "import pandas as pd\n",
    "import logging\n",
    "import warnings\n",
    "warnings.simplefilter(action='ignore', category=FutureWarning)\n",
    "with warnings.catch_warnings():\n",
    "    warnings.simplefilter(action='ignore', category=FutureWarning)\n",
    "    # Warning-causing lines of code here\n",
    "from PIL import Image"
   ]
  },
  {
   "cell_type": "code",
   "execution_count": 9,
   "id": "437acb02",
   "metadata": {},
   "outputs": [],
   "source": [
    "### Define all relevant directories and paths\n",
    "directory_path = '/home/melma31/Documents/campari/'\n",
    "### Input data base with mice data\n",
    "data_base_path = directory_path + 'data_base_output_bkup.xlsx'\n",
    "\n",
    "\n"
   ]
  },
  {
   "cell_type": "code",
   "execution_count": 11,
   "id": "f87b7ec2",
   "metadata": {},
   "outputs": [],
   "source": [
    "cell_data_output = pd.read_excel(data_base_path)\n",
    "conditions = np.unique(cell_data_output['stimuli'])"
   ]
  },
  {
   "cell_type": "code",
   "execution_count": 12,
   "id": "e8fef29e",
   "metadata": {},
   "outputs": [],
   "source": [
    "stimuli_color = ['k','orange','cyan','magenta','yellow']\n",
    "stimuli_names = ['Mock','Stroke','Brush']"
   ]
  },
  {
   "cell_type": "code",
   "execution_count": null,
   "id": "c07414f5",
   "metadata": {},
   "outputs": [],
   "source": []
  }
 ],
 "metadata": {
  "kernelspec": {
   "display_name": "Python 3 (ipykernel)",
   "language": "python",
   "name": "python3"
  },
  "language_info": {
   "codemirror_mode": {
    "name": "ipython",
    "version": 3
   },
   "file_extension": ".py",
   "mimetype": "text/x-python",
   "name": "python",
   "nbconvert_exporter": "python",
   "pygments_lexer": "ipython3",
   "version": "3.8.16"
  }
 },
 "nbformat": 4,
 "nbformat_minor": 5
}
