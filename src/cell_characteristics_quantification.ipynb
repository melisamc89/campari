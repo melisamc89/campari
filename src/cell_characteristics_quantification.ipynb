{
 "cells": [
  {
   "cell_type": "markdown",
   "id": "4ebd89d1",
   "metadata": {},
   "source": [
    "### Quantification of cell's characteristics. \n",
    "\n",
    "Here we create a data base of cell's characteristics. \n",
    "\n",
    "We use as an input the data base that was use for cell pose, check that both green and red images exists and also that the mask had been extracted.\n",
    "\n",
    "We compute characteristics for the cells extracted in the masks."
   ]
  },
  {
   "cell_type": "code",
   "execution_count": 1,
   "id": "d81f2883",
   "metadata": {},
   "outputs": [],
   "source": [
    "import numpy as np\n",
    "import time, os, sys\n",
    "from urllib.parse import urlparse\n",
    "import matplotlib.pyplot as plt\n",
    "import matplotlib as mpl\n",
    "from cellpose import utils, io\n",
    "import czifile as czifile\n",
    "import pandas as pd\n",
    "import logging\n",
    "import warnings\n",
    "warnings.simplefilter(action='ignore', category=FutureWarning)\n",
    "with warnings.catch_warnings():\n",
    "    warnings.simplefilter(action='ignore', category=FutureWarning)\n",
    "    # Warning-causing lines of code here\n",
    "from PIL import Image"
   ]
  },
  {
   "cell_type": "code",
   "execution_count": 2,
   "id": "6f161d67",
   "metadata": {},
   "outputs": [],
   "source": [
    "### Define all relevant directories and paths\n",
    "directory_path = '/home/melma31/Documents/campari/'\n",
    "\n",
    "### Input data base with mice data\n",
    "data_base_path = directory_path + 'data_base.xlsx'\n",
    "\n",
    "### Output data base with cell data. Backup copy is done simultaneusly (this is in case the code breaks while saving data base)\n",
    "data_base_path_output = directory_path + 'data_base_output.xlsx'\n",
    "data_base_path_output_bkup = directory_path + 'data_base_output_bkup.xlsx'"
   ]
  },
  {
   "cell_type": "code",
   "execution_count": 4,
   "id": "e063d6a3",
   "metadata": {},
   "outputs": [],
   "source": [
    "### If only some animals, days, side what to be analyzed, select them in here\n",
    "MOUSE = None\n",
    "SIDE = None\n",
    "EXAMPLE = None\n",
    "DATE = None\n",
    "\n",
    "\n",
    "### Parameters for CELLPOSE AND FOR POSTERIOR SELECTION\n",
    "CELLSIZE = 250"
   ]
  },
  {
   "cell_type": "code",
   "execution_count": 6,
   "id": "a3305802",
   "metadata": {},
   "outputs": [
    {
     "name": "stdout",
     "output_type": "stream",
     "text": [
      "     date  month  year  mouse_id  condition  stimuli  side  example  \\\n",
      "0      11      1  2023         1          1        1     0        1   \n",
      "1      11      1  2023         1          1        1     0        2   \n",
      "2      11      1  2023         1          1        1     0        3   \n",
      "3      11      1  2023         1          1        1     0        4   \n",
      "4      11      1  2023         1          1        1     0        5   \n",
      "..    ...    ...   ...       ...        ...      ...   ...      ...   \n",
      "96     25      1  2023         2          1        2     0        6   \n",
      "97     25      1  2023         2          1        2     1        1   \n",
      "98     25      1  2023         2          1        2     1        2   \n",
      "99     25      1  2023         2          1        2     1        3   \n",
      "100    25      1  2023         2          1        2     1        4   \n",
      "\n",
      "    green_file_name red_file_name  \n",
      "0             GREEN           RED  \n",
      "1             GREEN           RED  \n",
      "2             GREEN           RED  \n",
      "3             GREEN           RED  \n",
      "4             GREEN           RED  \n",
      "..              ...           ...  \n",
      "96            GREEN           RED  \n",
      "97            GREEN           RED  \n",
      "98            GREEN           RED  \n",
      "99            GREEN           RED  \n",
      "100           GREEN           RED  \n",
      "\n",
      "[101 rows x 10 columns]\n"
     ]
    }
   ],
   "source": [
    "mouse_data = pd.read_excel(data_base_path)\n",
    "cell_data_output = pd.read_excel(data_base_path_output)\n",
    "print(mouse_data)\n",
    "#print(cell_data_output)\n",
    "#mouse_number = 1 \n",
    "#mouse_data = dbase.loc[dbase['mouse_id'] == mouse_number]\n",
    "\n",
    "### PART 2: SELECT DESIRED DATA TO ANALYSE\n",
    "# Select only red channel data\n",
    "#selected_data = mouse_data.loc[mouse_data['date'] == DATE]\n",
    "#selected_data = selected_data.loc[selected_data['mouse_id'] == MOUSE]\n",
    "#selected_data = selected_data.loc[selected_data['example'] == EXAMPLE]\n",
    "#selected_data = selected_data.loc[selected_data['side'] == SIDE]\n",
    "\n",
    "selected_data = mouse_data\n",
    "mouse_data = selected_data"
   ]
  },
  {
   "cell_type": "code",
   "execution_count": 7,
   "id": "630e827e",
   "metadata": {},
   "outputs": [],
   "source": [
    "def append_to_or_merge_with_states_df(states_df, inp):\n",
    "    '''\n",
    "    If the row(s) exist(s) in the analysis states dataframe already, replace it\n",
    "    If it doesn't, append it to the analysis states dataframe.\n",
    "    Args:\n",
    "        inp: pd.Series object or pd.DataFrame object\n",
    "        states_df: pd.DataFrame object\n",
    "    Returns:\n",
    "        states_df: pd.DataFrame object\n",
    "            Analysis states dataframe with rows appended\n",
    "    '''\n",
    "\n",
    "    if str(type(inp)) == \"<class 'pandas.core.frame.DataFrame'>\":\n",
    "        # If a dataframe is inserted, apply the function recursively\n",
    "        for index, row in inp.iterrows():\n",
    "            states_df = append_to_or_merge_with_states_df(states_df, row)\n",
    "    else:\n",
    "        # If a row is inserted\n",
    "        if inp.name in states_df.index:\n",
    "            # Replace the row in the analysis states dataframe\n",
    "            logging.debug(f'Replacing row {inp.name} in analysis states dataframe')\n",
    "            for item, value in inp.iteritems():\n",
    "                states_df.loc[inp.name, item] = value\n",
    "        else:\n",
    "            logging.debug(f'Appending row {inp.name} to analysis states dataframe')\n",
    "            # Append it to the analysis states dataframe\n",
    "            states_df = states_df.append(inp)\n",
    "\n",
    "    return states_df"
   ]
  },
  {
   "cell_type": "code",
   "execution_count": 8,
   "id": "881f96a5",
   "metadata": {},
   "outputs": [
    {
     "name": "stdout",
     "output_type": "stream",
     "text": [
      "2023\n"
     ]
    }
   ],
   "source": [
    "### create output dataframe\n",
    "cell_counter= len(cell_data_output)\n",
    "for i in range(len(selected_data)):\n",
    "    cell_data_output = pd.read_excel(data_base_path_output)\n",
    "    cell_data_output.to_excel(data_base_path_output_bkup)  \n",
    "    \n",
    "    date = selected_data.iloc[i].date\n",
    "    month =  selected_data.iloc[i].month\n",
    "    year =  selected_data.iloc[i].year\n",
    "    mouse = selected_data.iloc[i].mouse_id\n",
    "    folder_structure = str(date) + '.' + str(month) + '.'+ str(year) + '/animal_' + str(mouse)\n",
    "    side = selected_data.iloc[i].side\n",
    "    if side == 0:\n",
    "        folder_structure = folder_structure + '/left/'\n",
    "    else:\n",
    "        folder_structure = folder_structure + '/right/'\n",
    "    example = selected_data.iloc[i].example\n",
    "    file_path = directory_path +'data/' + folder_structure + str(example) + '_' + selected_data.iloc[i].red_file_name\n",
    "    filesname_red = file_path + '.tif'\n",
    "    filesname_mask = file_path + '_cp_masks.png'\n",
    "    file_path = directory_path +'data/' + folder_structure + str(example) + '_' + selected_data.iloc[i].green_file_name\n",
    "    filesname_green = file_path + '.tif'\n",
    "    \n",
    "    if not os.path.exists(filesname_red) or not os.path.exists(filesname_green) or not os.path.exists(filesname_mask):\n",
    "        print('Not all files exist')\n",
    "    else:\n",
    "        img_red = io.imread(filesname_red)\n",
    "        masks = io.imread(filesname_mask)\n",
    "        img_green = io.imread(filesname_green)\n",
    "        \n",
    "        n_cells = np.max(masks)\n",
    "        mean_red = np.mean(img_red)\n",
    "        mean_green = np.mean(img_green)\n",
    "        #red_bkg.append(mean_red)\n",
    "        #green_bkg.append(mean_green)\n",
    "        for cell in range(1,n_cells):\n",
    "            cell_mask = np.where(masks == cell)\n",
    "            cellsize = len(cell_mask[0])\n",
    "            green_intensity = np.mean(img_green[cell_mask])-mean_green\n",
    "            red_intensity = np.mean(img_red[cell_mask])-mean_red\n",
    "            \n",
    "            if cellsize >= 250:\n",
    "                info_dictionary = { 'date':date,\n",
    "                                   'month':month,\n",
    "                                   'year':year,\n",
    "                                   'mouse_id':mouse,\n",
    "                                   'condition':selected_data.iloc[i].condition,\n",
    "                                   'stimuli':selected_data.iloc[i].stimuli,\n",
    "                                   'side':side,\n",
    "                                   'example':example,\n",
    "                                   'green_file_name':filesname_green,\n",
    "                                   'red_file_name':filesname_red,\n",
    "                                   'cell_id':cell,\n",
    "                                   'cell_size': cellsize,\n",
    "                                   'green_int':green_intensity,\n",
    "                                   'red_int':red_intensity}\n",
    "                new_df = pd.Series(info_dictionary)\n",
    "                new_df.name = cell_counter + cell\n",
    "                cell_data_output = append_to_or_merge_with_states_df(cell_data_output,new_df)\n",
    "            cell_data_output.to_excel(data_base_path_output, index=False)\n",
    "cell_data_output = cell_data_output.drop_duplicates()\n",
    "cell_data_output.to_excel(data_base_path_output, index=False)"
   ]
  },
  {
   "cell_type": "code",
   "execution_count": 9,
   "id": "9751133e",
   "metadata": {},
   "outputs": [
    {
     "data": {
      "text/plain": [
       "397347"
      ]
     },
     "execution_count": 9,
     "metadata": {},
     "output_type": "execute_result"
    }
   ],
   "source": []
  },
  {
   "cell_type": "code",
   "execution_count": null,
   "id": "101e56b7",
   "metadata": {},
   "outputs": [],
   "source": []
  }
 ],
 "metadata": {
  "kernelspec": {
   "display_name": "Python 3 (ipykernel)",
   "language": "python",
   "name": "python3"
  },
  "language_info": {
   "codemirror_mode": {
    "name": "ipython",
    "version": 3
   },
   "file_extension": ".py",
   "mimetype": "text/x-python",
   "name": "python",
   "nbconvert_exporter": "python",
   "pygments_lexer": "ipython3",
   "version": "3.8.16"
  }
 },
 "nbformat": 4,
 "nbformat_minor": 5
}
