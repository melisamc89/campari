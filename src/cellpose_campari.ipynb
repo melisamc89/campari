{
 "cells": [
  {
   "cell_type": "markdown",
   "id": "8b677691",
   "metadata": {},
   "source": [
    "### Implementation of cellpose for CAMPARI data\n",
    "\n",
    "This notebook will read a set of .czi files (saved in green and red fluorecence).\n",
    "It will convert .czi into a readable file format for cellpose.\n",
    "We will run cellpose on Red fluorecence image, and plot the extracted template into the red and green flourecence image as a control. \n",
    "Later will extract cell size and intensity from green and red fluorecence for further processing."
   ]
  },
  {
   "cell_type": "code",
   "execution_count": 5,
   "id": "dbf26f6f",
   "metadata": {},
   "outputs": [],
   "source": [
    "import numpy as np\n",
    "import time, os, sys\n",
    "from urllib.parse import urlparse\n",
    "import matplotlib.pyplot as plt\n",
    "import matplotlib as mpl\n",
    "from cellpose import utils, io\n",
    "import czifile as czifile\n",
    "import pandas as pd\n",
    "import logging\n",
    "import warnings\n",
    "warnings.simplefilter(action='ignore', category=FutureWarning)\n",
    "with warnings.catch_warnings():\n",
    "    warnings.simplefilter(action='ignore', category=FutureWarning)\n",
    "    # Warning-causing lines of code here\n",
    "from PIL import Image"
   ]
  },
  {
   "cell_type": "code",
   "execution_count": 6,
   "id": "ecc5255c",
   "metadata": {},
   "outputs": [],
   "source": [
    "### Define all relevant directories and paths\n",
    "directory_path = '/home/melma31/Documents/campari/'\n",
    "### Input data base with mice data\n",
    "data_base_path = directory_path + 'data_base.xlsx'\n",
    "\n",
    "### Output data base with cell data. Backup copy is done simultaneusly (this is in case the code breaks while saving data base)\n",
    "data_base_path_output = directory_path + 'data_base_output.xlsx'\n",
    "data_base_path_output_bkup = directory_path + 'data_base_output_bkup.xlsx'"
   ]
  },
  {
   "cell_type": "code",
   "execution_count": 12,
   "id": "e4058fe9",
   "metadata": {},
   "outputs": [],
   "source": [
    "### If only some animals, days, side what to be analyzed, select them in here\n",
    "MOUSE = None\n",
    "SIDE = None\n",
    "EXAMPLE = None\n",
    "DATE = 11\n",
    "\n",
    "# define CHANNELS to run segementation on\n",
    "# grayscale=0, R=1, G=2, B=3\n",
    "# channels = [cytoplasm, nucleus]\n",
    "# if NUCLEUS channel does not exist, set the second channel to 0\n",
    "# channels = [0,0]\n",
    "\n",
    "# IF ALL YOUR IMAGES ARE THE SAME TYPE, you can give a list with 2 elements\n",
    "# channels = [0,0] # IF YOU HAVE GRAYSCALE\n",
    "# channels = [2,3] # IF YOU HAVE G=cytoplasm and B=nucleus\n",
    "# channels = [2,1] # IF YOU HAVE G=cytoplasm and R=nucleus\n",
    "\n",
    "# if diameter is set to None, the size of the cells is estimated on a per image basis\n",
    "# you can set the average cell `diameter` in pixels yourself (recommended) \n",
    "# diameter can be a list or a single number for all images\n",
    "\n",
    "\n",
    "### Parameters for CELLPOSE AND FOR POSTERIOR SELECTION\n",
    "DIAMETER = 20\n",
    "### MODEL SELECTION : add posibilities between model_type='cyto' or model_type='nuclei'\n",
    "MODEL = 'cyto2'\n",
    "CHANNELS = [0,0]\n",
    "CELLSIZE = 250"
   ]
  },
  {
   "cell_type": "code",
   "execution_count": 13,
   "id": "2737d9ed",
   "metadata": {},
   "outputs": [
    {
     "name": "stdout",
     "output_type": "stream",
     "text": [
      "     date  month  year  mouse_id  condition  stimuli  side  example  \\\n",
      "0      11      1  2023         1        1.0      1.0   0.0      1.0   \n",
      "1      11      1  2023         1        1.0      1.0   0.0      2.0   \n",
      "2      11      1  2023         1        1.0      1.0   0.0      3.0   \n",
      "3      11      1  2023         1        1.0      1.0   0.0      4.0   \n",
      "4      11      1  2023         1        1.0      1.0   0.0      5.0   \n",
      "..    ...    ...   ...       ...        ...      ...   ...      ...   \n",
      "133     7      9  2022         2        0.0      0.0   1.0      3.0   \n",
      "134     8      9  2022         1        NaN      NaN   NaN      NaN   \n",
      "135     8      9  2022         1        NaN      NaN   NaN      NaN   \n",
      "136     8      9  2022         1        NaN      NaN   NaN      NaN   \n",
      "137     8      9  2022         1        NaN      NaN   NaN      NaN   \n",
      "\n",
      "    green_file_name red_file_name  \n",
      "0             GREEN           RED  \n",
      "1             GREEN           RED  \n",
      "2             GREEN           RED  \n",
      "3             GREEN           RED  \n",
      "4             GREEN           RED  \n",
      "..              ...           ...  \n",
      "133           GREEN           RED  \n",
      "134             NaN           NaN  \n",
      "135             NaN           NaN  \n",
      "136             NaN           NaN  \n",
      "137             NaN           NaN  \n",
      "\n",
      "[138 rows x 10 columns]\n"
     ]
    }
   ],
   "source": [
    "mouse_data = pd.read_excel(data_base_path)\n",
    "cell_data_output = pd.read_excel(data_base_path_output)\n",
    "print(mouse_data)\n",
    "#print(cell_data_output)\n",
    "#mouse_number = 1 \n",
    "#mouse_data = dbase.loc[dbase['mouse_id'] == mouse_number]"
   ]
  },
  {
   "cell_type": "code",
   "execution_count": 16,
   "id": "d16fe58a",
   "metadata": {},
   "outputs": [],
   "source": [
    "### PART 2: SELECT DESIRED DATA TO ANALYSE\n",
    "# Select only red channel data\n",
    "selected_data = mouse_data.loc[mouse_data['date'] == DATE]\n",
    "#selected_data = selected_data.loc[selected_data['mouse_id'] == MOUSE]\n",
    "#selected_data = selected_data.loc[selected_data['example'] == EXAMPLE]\n",
    "#selected_data = selected_data.loc[selected_data['side'] == SIDE]\n",
    "\n",
    "#selected_data = mouse_data\n",
    "mouse_data = selected_data"
   ]
  },
  {
   "cell_type": "code",
   "execution_count": 17,
   "id": "e688be12",
   "metadata": {},
   "outputs": [
    {
     "name": "stdout",
     "output_type": "stream",
     "text": [
      "All files had been converted from .czi to .tif\n"
     ]
    }
   ],
   "source": [
    "## PART 1: CONVERT ALL FILES\n",
    "# load all files in the data base and convert czi to tif\n",
    "for i in range(len(mouse_data)):\n",
    "    date = mouse_data.iloc[i].date\n",
    "    month =  mouse_data.iloc[i].month\n",
    "    year =  mouse_data.iloc[i].year\n",
    "    mouse = mouse_data.iloc[i].mouse_id\n",
    "    folder_structure = str(date) + '.' + str(month) + '.'+ str(year) + '/animal_' + str(mouse)\n",
    "    side = mouse_data.iloc[i].side\n",
    "    if side == 0:\n",
    "        folder_structure = folder_structure + '/left/'\n",
    "    else:\n",
    "        folder_structure = folder_structure + '/right/'\n",
    "    example = int(mouse_data.iloc[i].example)\n",
    "    file_path = directory_path +'data/' + folder_structure + str(example) + '_' + mouse_data.iloc[i].green_file_name\n",
    "    images = czifile.imread(file_path + '.czi')\n",
    "    images = images[0,:,:,0]\n",
    "    im = Image.fromarray(images)\n",
    "    im.save(file_path+'.tif')\n",
    "    \n",
    "    file_path = directory_path +'data/' + folder_structure + str(example) + '_' + mouse_data.iloc[i].red_file_name\n",
    "    images = czifile.imread(file_path + '.czi')\n",
    "    images = images[0,:,:,0]\n",
    "    im = Image.fromarray(images)\n",
    "    im.save(file_path+'.tif')\n",
    "print('All files had been converted from .czi to .tif')"
   ]
  },
  {
   "cell_type": "code",
   "execution_count": 24,
   "id": "38fc9ed3",
   "metadata": {},
   "outputs": [
    {
     "name": "stdout",
     "output_type": "stream",
     "text": [
      "Number of red channel data: 33\n",
      "/home/melma31/Documents/campari/data/11.1.2023/animal_1/left/1_RED\n",
      "/home/melma31/Documents/campari/data/11.1.2023/animal_1/left/2_RED\n",
      "/home/melma31/Documents/campari/data/11.1.2023/animal_1/left/3_RED\n",
      "/home/melma31/Documents/campari/data/11.1.2023/animal_1/left/4_RED\n"
     ]
    },
    {
     "ename": "KeyboardInterrupt",
     "evalue": "",
     "output_type": "error",
     "traceback": [
      "\u001b[0;31m---------------------------------------------------------------------------\u001b[0m",
      "\u001b[0;31mKeyboardInterrupt\u001b[0m                         Traceback (most recent call last)",
      "Cell \u001b[0;32mIn[24], line 38\u001b[0m\n\u001b[1;32m     36\u001b[0m \u001b[38;5;28mprint\u001b[39m(filesname_red)\n\u001b[1;32m     37\u001b[0m img \u001b[38;5;241m=\u001b[39m io\u001b[38;5;241m.\u001b[39mimread(filesname_red \u001b[38;5;241m+\u001b[39m \u001b[38;5;124m'\u001b[39m\u001b[38;5;124m.tif\u001b[39m\u001b[38;5;124m'\u001b[39m)\n\u001b[0;32m---> 38\u001b[0m masks, flows, styles, diams \u001b[38;5;241m=\u001b[39m \u001b[43mmodel\u001b[49m\u001b[38;5;241;43m.\u001b[39;49m\u001b[43meval\u001b[49m\u001b[43m(\u001b[49m\u001b[43mimg\u001b[49m\u001b[43m,\u001b[49m\u001b[43m \u001b[49m\u001b[43mdiameter\u001b[49m\u001b[38;5;241;43m=\u001b[39;49m\u001b[43mdiameter\u001b[49m\u001b[43m,\u001b[49m\u001b[43m \u001b[49m\u001b[43mchannels\u001b[49m\u001b[38;5;241;43m=\u001b[39;49m\u001b[43mchannels\u001b[49m\u001b[43m)\u001b[49m\n\u001b[1;32m     39\u001b[0m \u001b[38;5;66;03m# save results so you can load in gui\u001b[39;00m\n\u001b[1;32m     40\u001b[0m \u001b[38;5;66;03m#io.masks_flows_to_seg(img, masks, flows, diams, filename, channels)\u001b[39;00m\n\u001b[1;32m     41\u001b[0m \u001b[38;5;66;03m# save results as png\u001b[39;00m\n\u001b[1;32m     42\u001b[0m \u001b[38;5;66;03m#flows_list.append(flows)\u001b[39;00m\n\u001b[1;32m     43\u001b[0m io\u001b[38;5;241m.\u001b[39msave_to_png(img, masks, flows, filesname_red)\n",
      "File \u001b[0;32m~/mambaforge/envs/cellpose/lib/python3.8/site-packages/cellpose/models.py:239\u001b[0m, in \u001b[0;36mCellpose.eval\u001b[0;34m(self, x, batch_size, channels, channel_axis, z_axis, invert, normalize, diameter, do_3D, anisotropy, net_avg, augment, tile, tile_overlap, resample, interp, flow_threshold, cellprob_threshold, min_size, stitch_threshold, rescale, progress, model_loaded)\u001b[0m\n\u001b[1;32m    237\u001b[0m tic \u001b[38;5;241m=\u001b[39m time\u001b[38;5;241m.\u001b[39mtime()\n\u001b[1;32m    238\u001b[0m models_logger\u001b[38;5;241m.\u001b[39minfo(\u001b[38;5;124m'\u001b[39m\u001b[38;5;124m~~~ FINDING MASKS ~~~\u001b[39m\u001b[38;5;124m'\u001b[39m)\n\u001b[0;32m--> 239\u001b[0m masks, flows, styles \u001b[38;5;241m=\u001b[39m \u001b[38;5;28;43mself\u001b[39;49m\u001b[38;5;241;43m.\u001b[39;49m\u001b[43mcp\u001b[49m\u001b[38;5;241;43m.\u001b[39;49m\u001b[43meval\u001b[49m\u001b[43m(\u001b[49m\u001b[43mx\u001b[49m\u001b[43m,\u001b[49m\u001b[43m \u001b[49m\n\u001b[1;32m    240\u001b[0m \u001b[43m                                    \u001b[49m\u001b[43mbatch_size\u001b[49m\u001b[38;5;241;43m=\u001b[39;49m\u001b[43mbatch_size\u001b[49m\u001b[43m,\u001b[49m\u001b[43m \u001b[49m\n\u001b[1;32m    241\u001b[0m \u001b[43m                                    \u001b[49m\u001b[43minvert\u001b[49m\u001b[38;5;241;43m=\u001b[39;49m\u001b[43minvert\u001b[49m\u001b[43m,\u001b[49m\u001b[43m \u001b[49m\n\u001b[1;32m    242\u001b[0m \u001b[43m                                    \u001b[49m\u001b[43mnormalize\u001b[49m\u001b[38;5;241;43m=\u001b[39;49m\u001b[43mnormalize\u001b[49m\u001b[43m,\u001b[49m\n\u001b[1;32m    243\u001b[0m \u001b[43m                                    \u001b[49m\u001b[43mdiameter\u001b[49m\u001b[38;5;241;43m=\u001b[39;49m\u001b[43mdiameter\u001b[49m\u001b[43m,\u001b[49m\n\u001b[1;32m    244\u001b[0m \u001b[43m                                    \u001b[49m\u001b[43mrescale\u001b[49m\u001b[38;5;241;43m=\u001b[39;49m\u001b[43mrescale\u001b[49m\u001b[43m,\u001b[49m\u001b[43m \u001b[49m\n\u001b[1;32m    245\u001b[0m \u001b[43m                                    \u001b[49m\u001b[43manisotropy\u001b[49m\u001b[38;5;241;43m=\u001b[39;49m\u001b[43manisotropy\u001b[49m\u001b[43m,\u001b[49m\u001b[43m \u001b[49m\n\u001b[1;32m    246\u001b[0m \u001b[43m                                    \u001b[49m\u001b[43mchannels\u001b[49m\u001b[38;5;241;43m=\u001b[39;49m\u001b[43mchannels\u001b[49m\u001b[43m,\u001b[49m\n\u001b[1;32m    247\u001b[0m \u001b[43m                                    \u001b[49m\u001b[43mchannel_axis\u001b[49m\u001b[38;5;241;43m=\u001b[39;49m\u001b[43mchannel_axis\u001b[49m\u001b[43m,\u001b[49m\u001b[43m \u001b[49m\n\u001b[1;32m    248\u001b[0m \u001b[43m                                    \u001b[49m\u001b[43mz_axis\u001b[49m\u001b[38;5;241;43m=\u001b[39;49m\u001b[43mz_axis\u001b[49m\u001b[43m,\u001b[49m\n\u001b[1;32m    249\u001b[0m \u001b[43m                                    \u001b[49m\u001b[43maugment\u001b[49m\u001b[38;5;241;43m=\u001b[39;49m\u001b[43maugment\u001b[49m\u001b[43m,\u001b[49m\u001b[43m \u001b[49m\n\u001b[1;32m    250\u001b[0m \u001b[43m                                    \u001b[49m\u001b[43mtile\u001b[49m\u001b[38;5;241;43m=\u001b[39;49m\u001b[43mtile\u001b[49m\u001b[43m,\u001b[49m\u001b[43m \u001b[49m\n\u001b[1;32m    251\u001b[0m \u001b[43m                                    \u001b[49m\u001b[43mdo_3D\u001b[49m\u001b[38;5;241;43m=\u001b[39;49m\u001b[43mdo_3D\u001b[49m\u001b[43m,\u001b[49m\u001b[43m \u001b[49m\n\u001b[1;32m    252\u001b[0m \u001b[43m                                    \u001b[49m\u001b[43mnet_avg\u001b[49m\u001b[38;5;241;43m=\u001b[39;49m\u001b[43mnet_avg\u001b[49m\u001b[43m,\u001b[49m\u001b[43m \u001b[49m\n\u001b[1;32m    253\u001b[0m \u001b[43m                                    \u001b[49m\u001b[43mprogress\u001b[49m\u001b[38;5;241;43m=\u001b[39;49m\u001b[43mprogress\u001b[49m\u001b[43m,\u001b[49m\n\u001b[1;32m    254\u001b[0m \u001b[43m                                    \u001b[49m\u001b[43mtile_overlap\u001b[49m\u001b[38;5;241;43m=\u001b[39;49m\u001b[43mtile_overlap\u001b[49m\u001b[43m,\u001b[49m\n\u001b[1;32m    255\u001b[0m \u001b[43m                                    \u001b[49m\u001b[43mresample\u001b[49m\u001b[38;5;241;43m=\u001b[39;49m\u001b[43mresample\u001b[49m\u001b[43m,\u001b[49m\n\u001b[1;32m    256\u001b[0m \u001b[43m                                    \u001b[49m\u001b[43minterp\u001b[49m\u001b[38;5;241;43m=\u001b[39;49m\u001b[43minterp\u001b[49m\u001b[43m,\u001b[49m\n\u001b[1;32m    257\u001b[0m \u001b[43m                                    \u001b[49m\u001b[43mflow_threshold\u001b[49m\u001b[38;5;241;43m=\u001b[39;49m\u001b[43mflow_threshold\u001b[49m\u001b[43m,\u001b[49m\u001b[43m \u001b[49m\n\u001b[1;32m    258\u001b[0m \u001b[43m                                    \u001b[49m\u001b[43mcellprob_threshold\u001b[49m\u001b[38;5;241;43m=\u001b[39;49m\u001b[43mcellprob_threshold\u001b[49m\u001b[43m,\u001b[49m\n\u001b[1;32m    259\u001b[0m \u001b[43m                                    \u001b[49m\u001b[43mmin_size\u001b[49m\u001b[38;5;241;43m=\u001b[39;49m\u001b[43mmin_size\u001b[49m\u001b[43m,\u001b[49m\u001b[43m \u001b[49m\n\u001b[1;32m    260\u001b[0m \u001b[43m                                    \u001b[49m\u001b[43mstitch_threshold\u001b[49m\u001b[38;5;241;43m=\u001b[39;49m\u001b[43mstitch_threshold\u001b[49m\u001b[43m,\u001b[49m\n\u001b[1;32m    261\u001b[0m \u001b[43m                                    \u001b[49m\u001b[43mmodel_loaded\u001b[49m\u001b[38;5;241;43m=\u001b[39;49m\u001b[43mmodel_loaded\u001b[49m\u001b[43m)\u001b[49m\n\u001b[1;32m    262\u001b[0m models_logger\u001b[38;5;241m.\u001b[39minfo(\u001b[38;5;124m'\u001b[39m\u001b[38;5;124m>>>> TOTAL TIME \u001b[39m\u001b[38;5;132;01m%0.2f\u001b[39;00m\u001b[38;5;124m sec\u001b[39m\u001b[38;5;124m'\u001b[39m\u001b[38;5;241m%\u001b[39m(time\u001b[38;5;241m.\u001b[39mtime()\u001b[38;5;241m-\u001b[39mtic0))\n\u001b[1;32m    264\u001b[0m \u001b[38;5;28;01mreturn\u001b[39;00m masks, flows, styles, diams\n",
      "File \u001b[0;32m~/mambaforge/envs/cellpose/lib/python3.8/site-packages/cellpose/models.py:552\u001b[0m, in \u001b[0;36mCellposeModel.eval\u001b[0;34m(self, x, batch_size, channels, channel_axis, z_axis, normalize, invert, rescale, diameter, do_3D, anisotropy, net_avg, augment, tile, tile_overlap, resample, interp, flow_threshold, cellprob_threshold, compute_masks, min_size, stitch_threshold, progress, loop_run, model_loaded)\u001b[0m\n\u001b[1;32m    549\u001b[0m     diameter \u001b[38;5;241m=\u001b[39m \u001b[38;5;28mself\u001b[39m\u001b[38;5;241m.\u001b[39mdiam_labels\n\u001b[1;32m    550\u001b[0m     rescale \u001b[38;5;241m=\u001b[39m \u001b[38;5;28mself\u001b[39m\u001b[38;5;241m.\u001b[39mdiam_mean \u001b[38;5;241m/\u001b[39m diameter\n\u001b[0;32m--> 552\u001b[0m masks, styles, dP, cellprob, p \u001b[38;5;241m=\u001b[39m \u001b[38;5;28;43mself\u001b[39;49m\u001b[38;5;241;43m.\u001b[39;49m\u001b[43m_run_cp\u001b[49m\u001b[43m(\u001b[49m\u001b[43mx\u001b[49m\u001b[43m,\u001b[49m\u001b[43m \u001b[49m\n\u001b[1;32m    553\u001b[0m \u001b[43m                                              \u001b[49m\u001b[43mcompute_masks\u001b[49m\u001b[38;5;241;43m=\u001b[39;49m\u001b[43mcompute_masks\u001b[49m\u001b[43m,\u001b[49m\n\u001b[1;32m    554\u001b[0m \u001b[43m                                              \u001b[49m\u001b[43mnormalize\u001b[49m\u001b[38;5;241;43m=\u001b[39;49m\u001b[43mnormalize\u001b[49m\u001b[43m,\u001b[49m\n\u001b[1;32m    555\u001b[0m \u001b[43m                                              \u001b[49m\u001b[43minvert\u001b[49m\u001b[38;5;241;43m=\u001b[39;49m\u001b[43minvert\u001b[49m\u001b[43m,\u001b[49m\n\u001b[1;32m    556\u001b[0m \u001b[43m                                              \u001b[49m\u001b[43mrescale\u001b[49m\u001b[38;5;241;43m=\u001b[39;49m\u001b[43mrescale\u001b[49m\u001b[43m,\u001b[49m\u001b[43m \u001b[49m\n\u001b[1;32m    557\u001b[0m \u001b[43m                                              \u001b[49m\u001b[43mnet_avg\u001b[49m\u001b[38;5;241;43m=\u001b[39;49m\u001b[43mnet_avg\u001b[49m\u001b[43m,\u001b[49m\u001b[43m \u001b[49m\n\u001b[1;32m    558\u001b[0m \u001b[43m                                              \u001b[49m\u001b[43mresample\u001b[49m\u001b[38;5;241;43m=\u001b[39;49m\u001b[43mresample\u001b[49m\u001b[43m,\u001b[49m\n\u001b[1;32m    559\u001b[0m \u001b[43m                                              \u001b[49m\u001b[43maugment\u001b[49m\u001b[38;5;241;43m=\u001b[39;49m\u001b[43maugment\u001b[49m\u001b[43m,\u001b[49m\u001b[43m \u001b[49m\n\u001b[1;32m    560\u001b[0m \u001b[43m                                              \u001b[49m\u001b[43mtile\u001b[49m\u001b[38;5;241;43m=\u001b[39;49m\u001b[43mtile\u001b[49m\u001b[43m,\u001b[49m\u001b[43m \u001b[49m\n\u001b[1;32m    561\u001b[0m \u001b[43m                                              \u001b[49m\u001b[43mtile_overlap\u001b[49m\u001b[38;5;241;43m=\u001b[39;49m\u001b[43mtile_overlap\u001b[49m\u001b[43m,\u001b[49m\n\u001b[1;32m    562\u001b[0m \u001b[43m                                              \u001b[49m\u001b[43mflow_threshold\u001b[49m\u001b[38;5;241;43m=\u001b[39;49m\u001b[43mflow_threshold\u001b[49m\u001b[43m,\u001b[49m\n\u001b[1;32m    563\u001b[0m \u001b[43m                                              \u001b[49m\u001b[43mcellprob_threshold\u001b[49m\u001b[38;5;241;43m=\u001b[39;49m\u001b[43mcellprob_threshold\u001b[49m\u001b[43m,\u001b[49m\u001b[43m \u001b[49m\n\u001b[1;32m    564\u001b[0m \u001b[43m                                              \u001b[49m\u001b[43minterp\u001b[49m\u001b[38;5;241;43m=\u001b[39;49m\u001b[43minterp\u001b[49m\u001b[43m,\u001b[49m\n\u001b[1;32m    565\u001b[0m \u001b[43m                                              \u001b[49m\u001b[43mmin_size\u001b[49m\u001b[38;5;241;43m=\u001b[39;49m\u001b[43mmin_size\u001b[49m\u001b[43m,\u001b[49m\u001b[43m \u001b[49m\n\u001b[1;32m    566\u001b[0m \u001b[43m                                              \u001b[49m\u001b[43mdo_3D\u001b[49m\u001b[38;5;241;43m=\u001b[39;49m\u001b[43mdo_3D\u001b[49m\u001b[43m,\u001b[49m\u001b[43m \u001b[49m\n\u001b[1;32m    567\u001b[0m \u001b[43m                                              \u001b[49m\u001b[43manisotropy\u001b[49m\u001b[38;5;241;43m=\u001b[39;49m\u001b[43manisotropy\u001b[49m\u001b[43m,\u001b[49m\n\u001b[1;32m    568\u001b[0m \u001b[43m                                              \u001b[49m\u001b[43mstitch_threshold\u001b[49m\u001b[38;5;241;43m=\u001b[39;49m\u001b[43mstitch_threshold\u001b[49m\u001b[43m,\u001b[49m\n\u001b[1;32m    569\u001b[0m \u001b[43m                                              \u001b[49m\u001b[43m)\u001b[49m\n\u001b[1;32m    571\u001b[0m flows \u001b[38;5;241m=\u001b[39m [plot\u001b[38;5;241m.\u001b[39mdx_to_circ(dP), dP, cellprob, p]\n\u001b[1;32m    572\u001b[0m \u001b[38;5;28;01mreturn\u001b[39;00m masks, flows, styles\n",
      "File \u001b[0;32m~/mambaforge/envs/cellpose/lib/python3.8/site-packages/cellpose/models.py:616\u001b[0m, in \u001b[0;36mCellposeModel._run_cp\u001b[0;34m(self, x, compute_masks, normalize, invert, rescale, net_avg, resample, augment, tile, tile_overlap, cellprob_threshold, flow_threshold, min_size, interp, anisotropy, do_3D, stitch_threshold)\u001b[0m\n\u001b[1;32m    614\u001b[0m \u001b[38;5;28;01mif\u001b[39;00m rescale \u001b[38;5;241m!=\u001b[39m \u001b[38;5;241m1.0\u001b[39m:\n\u001b[1;32m    615\u001b[0m     img \u001b[38;5;241m=\u001b[39m transforms\u001b[38;5;241m.\u001b[39mresize_image(img, rsz\u001b[38;5;241m=\u001b[39mrescale)\n\u001b[0;32m--> 616\u001b[0m yf, style \u001b[38;5;241m=\u001b[39m \u001b[38;5;28;43mself\u001b[39;49m\u001b[38;5;241;43m.\u001b[39;49m\u001b[43m_run_nets\u001b[49m\u001b[43m(\u001b[49m\u001b[43mimg\u001b[49m\u001b[43m,\u001b[49m\u001b[43m \u001b[49m\u001b[43mnet_avg\u001b[49m\u001b[38;5;241;43m=\u001b[39;49m\u001b[43mnet_avg\u001b[49m\u001b[43m,\u001b[49m\n\u001b[1;32m    617\u001b[0m \u001b[43m                           \u001b[49m\u001b[43maugment\u001b[49m\u001b[38;5;241;43m=\u001b[39;49m\u001b[43maugment\u001b[49m\u001b[43m,\u001b[49m\u001b[43m \u001b[49m\u001b[43mtile\u001b[49m\u001b[38;5;241;43m=\u001b[39;49m\u001b[43mtile\u001b[49m\u001b[43m,\u001b[49m\n\u001b[1;32m    618\u001b[0m \u001b[43m                           \u001b[49m\u001b[43mtile_overlap\u001b[49m\u001b[38;5;241;43m=\u001b[39;49m\u001b[43mtile_overlap\u001b[49m\u001b[43m)\u001b[49m\n\u001b[1;32m    619\u001b[0m \u001b[38;5;28;01mif\u001b[39;00m resample:\n\u001b[1;32m    620\u001b[0m     yf \u001b[38;5;241m=\u001b[39m transforms\u001b[38;5;241m.\u001b[39mresize_image(yf, shape[\u001b[38;5;241m1\u001b[39m], shape[\u001b[38;5;241m2\u001b[39m])\n",
      "File \u001b[0;32m~/mambaforge/envs/cellpose/lib/python3.8/site-packages/cellpose/core.py:363\u001b[0m, in \u001b[0;36mUnetModel._run_nets\u001b[0;34m(self, img, net_avg, augment, tile, tile_overlap, bsize, return_conv, progress)\u001b[0m\n\u001b[1;32m    327\u001b[0m \u001b[38;5;250m\u001b[39m\u001b[38;5;124;03m\"\"\" run network (if more than one, loop over networks and average results\u001b[39;00m\n\u001b[1;32m    328\u001b[0m \n\u001b[1;32m    329\u001b[0m \u001b[38;5;124;03mParameters\u001b[39;00m\n\u001b[0;32m   (...)\u001b[0m\n\u001b[1;32m    360\u001b[0m \n\u001b[1;32m    361\u001b[0m \u001b[38;5;124;03m\"\"\"\u001b[39;00m\n\u001b[1;32m    362\u001b[0m \u001b[38;5;28;01mif\u001b[39;00m \u001b[38;5;28misinstance\u001b[39m(\u001b[38;5;28mself\u001b[39m\u001b[38;5;241m.\u001b[39mpretrained_model, \u001b[38;5;28mstr\u001b[39m) \u001b[38;5;129;01mor\u001b[39;00m \u001b[38;5;129;01mnot\u001b[39;00m net_avg:  \n\u001b[0;32m--> 363\u001b[0m     y, style \u001b[38;5;241m=\u001b[39m \u001b[38;5;28;43mself\u001b[39;49m\u001b[38;5;241;43m.\u001b[39;49m\u001b[43m_run_net\u001b[49m\u001b[43m(\u001b[49m\u001b[43mimg\u001b[49m\u001b[43m,\u001b[49m\u001b[43m \u001b[49m\u001b[43maugment\u001b[49m\u001b[38;5;241;43m=\u001b[39;49m\u001b[43maugment\u001b[49m\u001b[43m,\u001b[49m\u001b[43m \u001b[49m\u001b[43mtile\u001b[49m\u001b[38;5;241;43m=\u001b[39;49m\u001b[43mtile\u001b[49m\u001b[43m,\u001b[49m\u001b[43m \u001b[49m\u001b[43mtile_overlap\u001b[49m\u001b[38;5;241;43m=\u001b[39;49m\u001b[43mtile_overlap\u001b[49m\u001b[43m,\u001b[49m\n\u001b[1;32m    364\u001b[0m \u001b[43m                             \u001b[49m\u001b[43mbsize\u001b[49m\u001b[38;5;241;43m=\u001b[39;49m\u001b[43mbsize\u001b[49m\u001b[43m,\u001b[49m\u001b[43m \u001b[49m\u001b[43mreturn_conv\u001b[49m\u001b[38;5;241;43m=\u001b[39;49m\u001b[43mreturn_conv\u001b[49m\u001b[43m)\u001b[49m\n\u001b[1;32m    365\u001b[0m \u001b[38;5;28;01melse\u001b[39;00m:  \n\u001b[1;32m    366\u001b[0m     \u001b[38;5;28;01mfor\u001b[39;00m j \u001b[38;5;129;01min\u001b[39;00m \u001b[38;5;28mrange\u001b[39m(\u001b[38;5;28mlen\u001b[39m(\u001b[38;5;28mself\u001b[39m\u001b[38;5;241m.\u001b[39mpretrained_model)):\n",
      "File \u001b[0;32m~/mambaforge/envs/cellpose/lib/python3.8/site-packages/cellpose/core.py:442\u001b[0m, in \u001b[0;36mUnetModel._run_net\u001b[0;34m(self, imgs, augment, tile, tile_overlap, bsize, return_conv)\u001b[0m\n\u001b[1;32m    440\u001b[0m \u001b[38;5;66;03m# run network\u001b[39;00m\n\u001b[1;32m    441\u001b[0m \u001b[38;5;28;01mif\u001b[39;00m tile \u001b[38;5;129;01mor\u001b[39;00m augment \u001b[38;5;129;01mor\u001b[39;00m imgs\u001b[38;5;241m.\u001b[39mndim\u001b[38;5;241m==\u001b[39m\u001b[38;5;241m4\u001b[39m:\n\u001b[0;32m--> 442\u001b[0m     y, style \u001b[38;5;241m=\u001b[39m \u001b[38;5;28;43mself\u001b[39;49m\u001b[38;5;241;43m.\u001b[39;49m\u001b[43m_run_tiled\u001b[49m\u001b[43m(\u001b[49m\u001b[43mimgs\u001b[49m\u001b[43m,\u001b[49m\u001b[43m \u001b[49m\u001b[43maugment\u001b[49m\u001b[38;5;241;43m=\u001b[39;49m\u001b[43maugment\u001b[49m\u001b[43m,\u001b[49m\u001b[43m \u001b[49m\u001b[43mbsize\u001b[49m\u001b[38;5;241;43m=\u001b[39;49m\u001b[43mbsize\u001b[49m\u001b[43m,\u001b[49m\u001b[43m \u001b[49m\n\u001b[1;32m    443\u001b[0m \u001b[43m                              \u001b[49m\u001b[43mtile_overlap\u001b[49m\u001b[38;5;241;43m=\u001b[39;49m\u001b[43mtile_overlap\u001b[49m\u001b[43m,\u001b[49m\u001b[43m \u001b[49m\n\u001b[1;32m    444\u001b[0m \u001b[43m                              \u001b[49m\u001b[43mreturn_conv\u001b[49m\u001b[38;5;241;43m=\u001b[39;49m\u001b[43mreturn_conv\u001b[49m\u001b[43m)\u001b[49m\n\u001b[1;32m    445\u001b[0m \u001b[38;5;28;01melse\u001b[39;00m:\n\u001b[1;32m    446\u001b[0m     imgs \u001b[38;5;241m=\u001b[39m np\u001b[38;5;241m.\u001b[39mexpand_dims(imgs, axis\u001b[38;5;241m=\u001b[39m\u001b[38;5;241m0\u001b[39m)\n",
      "File \u001b[0;32m~/mambaforge/envs/cellpose/lib/python3.8/site-packages/cellpose/core.py:543\u001b[0m, in \u001b[0;36mUnetModel._run_tiled\u001b[0;34m(self, imgi, augment, bsize, tile_overlap, return_conv)\u001b[0m\n\u001b[1;32m    541\u001b[0m \u001b[38;5;28;01mfor\u001b[39;00m k \u001b[38;5;129;01min\u001b[39;00m \u001b[38;5;28mrange\u001b[39m(niter):\n\u001b[1;32m    542\u001b[0m     irange \u001b[38;5;241m=\u001b[39m np\u001b[38;5;241m.\u001b[39marange(batch_size\u001b[38;5;241m*\u001b[39mk, \u001b[38;5;28mmin\u001b[39m(IMG\u001b[38;5;241m.\u001b[39mshape[\u001b[38;5;241m0\u001b[39m], batch_size\u001b[38;5;241m*\u001b[39mk\u001b[38;5;241m+\u001b[39mbatch_size))\n\u001b[0;32m--> 543\u001b[0m     y0, style \u001b[38;5;241m=\u001b[39m \u001b[38;5;28;43mself\u001b[39;49m\u001b[38;5;241;43m.\u001b[39;49m\u001b[43mnetwork\u001b[49m\u001b[43m(\u001b[49m\u001b[43mIMG\u001b[49m\u001b[43m[\u001b[49m\u001b[43mirange\u001b[49m\u001b[43m]\u001b[49m\u001b[43m,\u001b[49m\u001b[43m \u001b[49m\u001b[43mreturn_conv\u001b[49m\u001b[38;5;241;43m=\u001b[39;49m\u001b[43mreturn_conv\u001b[49m\u001b[43m)\u001b[49m\n\u001b[1;32m    544\u001b[0m     y[irange] \u001b[38;5;241m=\u001b[39m y0\u001b[38;5;241m.\u001b[39mreshape(\u001b[38;5;28mlen\u001b[39m(irange), y0\u001b[38;5;241m.\u001b[39mshape[\u001b[38;5;241m-\u001b[39m\u001b[38;5;241m3\u001b[39m], y0\u001b[38;5;241m.\u001b[39mshape[\u001b[38;5;241m-\u001b[39m\u001b[38;5;241m2\u001b[39m], y0\u001b[38;5;241m.\u001b[39mshape[\u001b[38;5;241m-\u001b[39m\u001b[38;5;241m1\u001b[39m])\n\u001b[1;32m    545\u001b[0m     \u001b[38;5;28;01mif\u001b[39;00m k\u001b[38;5;241m==\u001b[39m\u001b[38;5;241m0\u001b[39m:\n",
      "File \u001b[0;32m~/mambaforge/envs/cellpose/lib/python3.8/site-packages/cellpose/core.py:315\u001b[0m, in \u001b[0;36mUnetModel.network\u001b[0;34m(self, x, return_conv)\u001b[0m\n\u001b[1;32m    313\u001b[0m     \u001b[38;5;28mself\u001b[39m\u001b[38;5;241m.\u001b[39mnet \u001b[38;5;241m=\u001b[39m mkldnn_utils\u001b[38;5;241m.\u001b[39mto_mkldnn(\u001b[38;5;28mself\u001b[39m\u001b[38;5;241m.\u001b[39mnet)\n\u001b[1;32m    314\u001b[0m \u001b[38;5;28;01mwith\u001b[39;00m torch\u001b[38;5;241m.\u001b[39mno_grad():\n\u001b[0;32m--> 315\u001b[0m     y, style \u001b[38;5;241m=\u001b[39m \u001b[38;5;28;43mself\u001b[39;49m\u001b[38;5;241;43m.\u001b[39;49m\u001b[43mnet\u001b[49m\u001b[43m(\u001b[49m\u001b[43mX\u001b[49m\u001b[43m)\u001b[49m\n\u001b[1;32m    316\u001b[0m \u001b[38;5;28;01mdel\u001b[39;00m X\n\u001b[1;32m    317\u001b[0m y \u001b[38;5;241m=\u001b[39m \u001b[38;5;28mself\u001b[39m\u001b[38;5;241m.\u001b[39m_from_device(y)\n",
      "File \u001b[0;32m~/mambaforge/envs/cellpose/lib/python3.8/site-packages/torch/nn/modules/module.py:1194\u001b[0m, in \u001b[0;36mModule._call_impl\u001b[0;34m(self, *input, **kwargs)\u001b[0m\n\u001b[1;32m   1190\u001b[0m \u001b[38;5;66;03m# If we don't have any hooks, we want to skip the rest of the logic in\u001b[39;00m\n\u001b[1;32m   1191\u001b[0m \u001b[38;5;66;03m# this function, and just call forward.\u001b[39;00m\n\u001b[1;32m   1192\u001b[0m \u001b[38;5;28;01mif\u001b[39;00m \u001b[38;5;129;01mnot\u001b[39;00m (\u001b[38;5;28mself\u001b[39m\u001b[38;5;241m.\u001b[39m_backward_hooks \u001b[38;5;129;01mor\u001b[39;00m \u001b[38;5;28mself\u001b[39m\u001b[38;5;241m.\u001b[39m_forward_hooks \u001b[38;5;129;01mor\u001b[39;00m \u001b[38;5;28mself\u001b[39m\u001b[38;5;241m.\u001b[39m_forward_pre_hooks \u001b[38;5;129;01mor\u001b[39;00m _global_backward_hooks\n\u001b[1;32m   1193\u001b[0m         \u001b[38;5;129;01mor\u001b[39;00m _global_forward_hooks \u001b[38;5;129;01mor\u001b[39;00m _global_forward_pre_hooks):\n\u001b[0;32m-> 1194\u001b[0m     \u001b[38;5;28;01mreturn\u001b[39;00m \u001b[43mforward_call\u001b[49m\u001b[43m(\u001b[49m\u001b[38;5;241;43m*\u001b[39;49m\u001b[38;5;28;43minput\u001b[39;49m\u001b[43m,\u001b[49m\u001b[43m \u001b[49m\u001b[38;5;241;43m*\u001b[39;49m\u001b[38;5;241;43m*\u001b[39;49m\u001b[43mkwargs\u001b[49m\u001b[43m)\u001b[49m\n\u001b[1;32m   1195\u001b[0m \u001b[38;5;66;03m# Do not call functions when jit is used\u001b[39;00m\n\u001b[1;32m   1196\u001b[0m full_backward_hooks, non_full_backward_hooks \u001b[38;5;241m=\u001b[39m [], []\n",
      "File \u001b[0;32m~/mambaforge/envs/cellpose/lib/python3.8/site-packages/cellpose/resnet_torch.py:202\u001b[0m, in \u001b[0;36mCPnet.forward\u001b[0;34m(self, data)\u001b[0m\n\u001b[1;32m    200\u001b[0m \u001b[38;5;28;01mif\u001b[39;00m \u001b[38;5;28mself\u001b[39m\u001b[38;5;241m.\u001b[39mmkldnn:\n\u001b[1;32m    201\u001b[0m     data \u001b[38;5;241m=\u001b[39m data\u001b[38;5;241m.\u001b[39mto_mkldnn()\n\u001b[0;32m--> 202\u001b[0m T0    \u001b[38;5;241m=\u001b[39m \u001b[38;5;28;43mself\u001b[39;49m\u001b[38;5;241;43m.\u001b[39;49m\u001b[43mdownsample\u001b[49m\u001b[43m(\u001b[49m\u001b[43mdata\u001b[49m\u001b[43m)\u001b[49m\n\u001b[1;32m    203\u001b[0m \u001b[38;5;28;01mif\u001b[39;00m \u001b[38;5;28mself\u001b[39m\u001b[38;5;241m.\u001b[39mmkldnn:\n\u001b[1;32m    204\u001b[0m     style \u001b[38;5;241m=\u001b[39m \u001b[38;5;28mself\u001b[39m\u001b[38;5;241m.\u001b[39mmake_style(T0[\u001b[38;5;241m-\u001b[39m\u001b[38;5;241m1\u001b[39m]\u001b[38;5;241m.\u001b[39mto_dense()) \n",
      "File \u001b[0;32m~/mambaforge/envs/cellpose/lib/python3.8/site-packages/torch/nn/modules/module.py:1194\u001b[0m, in \u001b[0;36mModule._call_impl\u001b[0;34m(self, *input, **kwargs)\u001b[0m\n\u001b[1;32m   1190\u001b[0m \u001b[38;5;66;03m# If we don't have any hooks, we want to skip the rest of the logic in\u001b[39;00m\n\u001b[1;32m   1191\u001b[0m \u001b[38;5;66;03m# this function, and just call forward.\u001b[39;00m\n\u001b[1;32m   1192\u001b[0m \u001b[38;5;28;01mif\u001b[39;00m \u001b[38;5;129;01mnot\u001b[39;00m (\u001b[38;5;28mself\u001b[39m\u001b[38;5;241m.\u001b[39m_backward_hooks \u001b[38;5;129;01mor\u001b[39;00m \u001b[38;5;28mself\u001b[39m\u001b[38;5;241m.\u001b[39m_forward_hooks \u001b[38;5;129;01mor\u001b[39;00m \u001b[38;5;28mself\u001b[39m\u001b[38;5;241m.\u001b[39m_forward_pre_hooks \u001b[38;5;129;01mor\u001b[39;00m _global_backward_hooks\n\u001b[1;32m   1193\u001b[0m         \u001b[38;5;129;01mor\u001b[39;00m _global_forward_hooks \u001b[38;5;129;01mor\u001b[39;00m _global_forward_pre_hooks):\n\u001b[0;32m-> 1194\u001b[0m     \u001b[38;5;28;01mreturn\u001b[39;00m \u001b[43mforward_call\u001b[49m\u001b[43m(\u001b[49m\u001b[38;5;241;43m*\u001b[39;49m\u001b[38;5;28;43minput\u001b[39;49m\u001b[43m,\u001b[49m\u001b[43m \u001b[49m\u001b[38;5;241;43m*\u001b[39;49m\u001b[38;5;241;43m*\u001b[39;49m\u001b[43mkwargs\u001b[49m\u001b[43m)\u001b[49m\n\u001b[1;32m   1195\u001b[0m \u001b[38;5;66;03m# Do not call functions when jit is used\u001b[39;00m\n\u001b[1;32m   1196\u001b[0m full_backward_hooks, non_full_backward_hooks \u001b[38;5;241m=\u001b[39m [], []\n",
      "File \u001b[0;32m~/mambaforge/envs/cellpose/lib/python3.8/site-packages/cellpose/resnet_torch.py:84\u001b[0m, in \u001b[0;36mdownsample.forward\u001b[0;34m(self, x)\u001b[0m\n\u001b[1;32m     82\u001b[0m     \u001b[38;5;28;01melse\u001b[39;00m:\n\u001b[1;32m     83\u001b[0m         y \u001b[38;5;241m=\u001b[39m x\n\u001b[0;32m---> 84\u001b[0m     xd\u001b[38;5;241m.\u001b[39mappend(\u001b[38;5;28;43mself\u001b[39;49m\u001b[38;5;241;43m.\u001b[39;49m\u001b[43mdown\u001b[49m\u001b[43m[\u001b[49m\u001b[43mn\u001b[49m\u001b[43m]\u001b[49m\u001b[43m(\u001b[49m\u001b[43my\u001b[49m\u001b[43m)\u001b[49m)\n\u001b[1;32m     85\u001b[0m \u001b[38;5;28;01mreturn\u001b[39;00m xd\n",
      "File \u001b[0;32m~/mambaforge/envs/cellpose/lib/python3.8/site-packages/torch/nn/modules/module.py:1194\u001b[0m, in \u001b[0;36mModule._call_impl\u001b[0;34m(self, *input, **kwargs)\u001b[0m\n\u001b[1;32m   1190\u001b[0m \u001b[38;5;66;03m# If we don't have any hooks, we want to skip the rest of the logic in\u001b[39;00m\n\u001b[1;32m   1191\u001b[0m \u001b[38;5;66;03m# this function, and just call forward.\u001b[39;00m\n\u001b[1;32m   1192\u001b[0m \u001b[38;5;28;01mif\u001b[39;00m \u001b[38;5;129;01mnot\u001b[39;00m (\u001b[38;5;28mself\u001b[39m\u001b[38;5;241m.\u001b[39m_backward_hooks \u001b[38;5;129;01mor\u001b[39;00m \u001b[38;5;28mself\u001b[39m\u001b[38;5;241m.\u001b[39m_forward_hooks \u001b[38;5;129;01mor\u001b[39;00m \u001b[38;5;28mself\u001b[39m\u001b[38;5;241m.\u001b[39m_forward_pre_hooks \u001b[38;5;129;01mor\u001b[39;00m _global_backward_hooks\n\u001b[1;32m   1193\u001b[0m         \u001b[38;5;129;01mor\u001b[39;00m _global_forward_hooks \u001b[38;5;129;01mor\u001b[39;00m _global_forward_pre_hooks):\n\u001b[0;32m-> 1194\u001b[0m     \u001b[38;5;28;01mreturn\u001b[39;00m \u001b[43mforward_call\u001b[49m\u001b[43m(\u001b[49m\u001b[38;5;241;43m*\u001b[39;49m\u001b[38;5;28;43minput\u001b[39;49m\u001b[43m,\u001b[49m\u001b[43m \u001b[49m\u001b[38;5;241;43m*\u001b[39;49m\u001b[38;5;241;43m*\u001b[39;49m\u001b[43mkwargs\u001b[49m\u001b[43m)\u001b[49m\n\u001b[1;32m   1195\u001b[0m \u001b[38;5;66;03m# Do not call functions when jit is used\u001b[39;00m\n\u001b[1;32m   1196\u001b[0m full_backward_hooks, non_full_backward_hooks \u001b[38;5;241m=\u001b[39m [], []\n",
      "File \u001b[0;32m~/mambaforge/envs/cellpose/lib/python3.8/site-packages/cellpose/resnet_torch.py:48\u001b[0m, in \u001b[0;36mresdown.forward\u001b[0;34m(self, x)\u001b[0m\n\u001b[1;32m     46\u001b[0m \u001b[38;5;28;01mdef\u001b[39;00m \u001b[38;5;21mforward\u001b[39m(\u001b[38;5;28mself\u001b[39m, x):\n\u001b[1;32m     47\u001b[0m     x \u001b[38;5;241m=\u001b[39m \u001b[38;5;28mself\u001b[39m\u001b[38;5;241m.\u001b[39mproj(x) \u001b[38;5;241m+\u001b[39m \u001b[38;5;28mself\u001b[39m\u001b[38;5;241m.\u001b[39mconv[\u001b[38;5;241m1\u001b[39m](\u001b[38;5;28mself\u001b[39m\u001b[38;5;241m.\u001b[39mconv[\u001b[38;5;241m0\u001b[39m](x))\n\u001b[0;32m---> 48\u001b[0m     x \u001b[38;5;241m=\u001b[39m x \u001b[38;5;241m+\u001b[39m \u001b[38;5;28;43mself\u001b[39;49m\u001b[38;5;241;43m.\u001b[39;49m\u001b[43mconv\u001b[49m\u001b[43m[\u001b[49m\u001b[38;5;241;43m3\u001b[39;49m\u001b[43m]\u001b[49m\u001b[43m(\u001b[49m\u001b[38;5;28;43mself\u001b[39;49m\u001b[38;5;241;43m.\u001b[39;49m\u001b[43mconv\u001b[49m\u001b[43m[\u001b[49m\u001b[38;5;241;43m2\u001b[39;49m\u001b[43m]\u001b[49m\u001b[43m(\u001b[49m\u001b[43mx\u001b[49m\u001b[43m)\u001b[49m\u001b[43m)\u001b[49m\n\u001b[1;32m     49\u001b[0m     \u001b[38;5;28;01mreturn\u001b[39;00m x\n",
      "File \u001b[0;32m~/mambaforge/envs/cellpose/lib/python3.8/site-packages/torch/nn/modules/module.py:1194\u001b[0m, in \u001b[0;36mModule._call_impl\u001b[0;34m(self, *input, **kwargs)\u001b[0m\n\u001b[1;32m   1190\u001b[0m \u001b[38;5;66;03m# If we don't have any hooks, we want to skip the rest of the logic in\u001b[39;00m\n\u001b[1;32m   1191\u001b[0m \u001b[38;5;66;03m# this function, and just call forward.\u001b[39;00m\n\u001b[1;32m   1192\u001b[0m \u001b[38;5;28;01mif\u001b[39;00m \u001b[38;5;129;01mnot\u001b[39;00m (\u001b[38;5;28mself\u001b[39m\u001b[38;5;241m.\u001b[39m_backward_hooks \u001b[38;5;129;01mor\u001b[39;00m \u001b[38;5;28mself\u001b[39m\u001b[38;5;241m.\u001b[39m_forward_hooks \u001b[38;5;129;01mor\u001b[39;00m \u001b[38;5;28mself\u001b[39m\u001b[38;5;241m.\u001b[39m_forward_pre_hooks \u001b[38;5;129;01mor\u001b[39;00m _global_backward_hooks\n\u001b[1;32m   1193\u001b[0m         \u001b[38;5;129;01mor\u001b[39;00m _global_forward_hooks \u001b[38;5;129;01mor\u001b[39;00m _global_forward_pre_hooks):\n\u001b[0;32m-> 1194\u001b[0m     \u001b[38;5;28;01mreturn\u001b[39;00m \u001b[43mforward_call\u001b[49m\u001b[43m(\u001b[49m\u001b[38;5;241;43m*\u001b[39;49m\u001b[38;5;28;43minput\u001b[39;49m\u001b[43m,\u001b[49m\u001b[43m \u001b[49m\u001b[38;5;241;43m*\u001b[39;49m\u001b[38;5;241;43m*\u001b[39;49m\u001b[43mkwargs\u001b[49m\u001b[43m)\u001b[49m\n\u001b[1;32m   1195\u001b[0m \u001b[38;5;66;03m# Do not call functions when jit is used\u001b[39;00m\n\u001b[1;32m   1196\u001b[0m full_backward_hooks, non_full_backward_hooks \u001b[38;5;241m=\u001b[39m [], []\n",
      "File \u001b[0;32m~/mambaforge/envs/cellpose/lib/python3.8/site-packages/torch/nn/modules/container.py:204\u001b[0m, in \u001b[0;36mSequential.forward\u001b[0;34m(self, input)\u001b[0m\n\u001b[1;32m    202\u001b[0m \u001b[38;5;28;01mdef\u001b[39;00m \u001b[38;5;21mforward\u001b[39m(\u001b[38;5;28mself\u001b[39m, \u001b[38;5;28minput\u001b[39m):\n\u001b[1;32m    203\u001b[0m     \u001b[38;5;28;01mfor\u001b[39;00m module \u001b[38;5;129;01min\u001b[39;00m \u001b[38;5;28mself\u001b[39m:\n\u001b[0;32m--> 204\u001b[0m         \u001b[38;5;28minput\u001b[39m \u001b[38;5;241m=\u001b[39m \u001b[43mmodule\u001b[49m\u001b[43m(\u001b[49m\u001b[38;5;28;43minput\u001b[39;49m\u001b[43m)\u001b[49m\n\u001b[1;32m    205\u001b[0m     \u001b[38;5;28;01mreturn\u001b[39;00m \u001b[38;5;28minput\u001b[39m\n",
      "File \u001b[0;32m~/mambaforge/envs/cellpose/lib/python3.8/site-packages/torch/nn/modules/module.py:1194\u001b[0m, in \u001b[0;36mModule._call_impl\u001b[0;34m(self, *input, **kwargs)\u001b[0m\n\u001b[1;32m   1190\u001b[0m \u001b[38;5;66;03m# If we don't have any hooks, we want to skip the rest of the logic in\u001b[39;00m\n\u001b[1;32m   1191\u001b[0m \u001b[38;5;66;03m# this function, and just call forward.\u001b[39;00m\n\u001b[1;32m   1192\u001b[0m \u001b[38;5;28;01mif\u001b[39;00m \u001b[38;5;129;01mnot\u001b[39;00m (\u001b[38;5;28mself\u001b[39m\u001b[38;5;241m.\u001b[39m_backward_hooks \u001b[38;5;129;01mor\u001b[39;00m \u001b[38;5;28mself\u001b[39m\u001b[38;5;241m.\u001b[39m_forward_hooks \u001b[38;5;129;01mor\u001b[39;00m \u001b[38;5;28mself\u001b[39m\u001b[38;5;241m.\u001b[39m_forward_pre_hooks \u001b[38;5;129;01mor\u001b[39;00m _global_backward_hooks\n\u001b[1;32m   1193\u001b[0m         \u001b[38;5;129;01mor\u001b[39;00m _global_forward_hooks \u001b[38;5;129;01mor\u001b[39;00m _global_forward_pre_hooks):\n\u001b[0;32m-> 1194\u001b[0m     \u001b[38;5;28;01mreturn\u001b[39;00m \u001b[43mforward_call\u001b[49m\u001b[43m(\u001b[49m\u001b[38;5;241;43m*\u001b[39;49m\u001b[38;5;28;43minput\u001b[39;49m\u001b[43m,\u001b[49m\u001b[43m \u001b[49m\u001b[38;5;241;43m*\u001b[39;49m\u001b[38;5;241;43m*\u001b[39;49m\u001b[43mkwargs\u001b[49m\u001b[43m)\u001b[49m\n\u001b[1;32m   1195\u001b[0m \u001b[38;5;66;03m# Do not call functions when jit is used\u001b[39;00m\n\u001b[1;32m   1196\u001b[0m full_backward_hooks, non_full_backward_hooks \u001b[38;5;241m=\u001b[39m [], []\n",
      "\u001b[0;31mKeyboardInterrupt\u001b[0m: "
     ]
    }
   ],
   "source": [
    "print('Number of red channel data: ' + str(len(selected_data)))\n",
    "# check that all tif files exists\n",
    "\n",
    "# RUN CELLPOSE\n",
    "from cellpose import models, io\n",
    "\n",
    "# DEFINE CELLPOSE MODEL\n",
    "# model_type='cyto' or model_type='nuclei'\n",
    "model = models.Cellpose(gpu=False, model_type=MODEL)\n",
    "channels = CHANNELS\n",
    "diameter = DIAMETER\n",
    "\n",
    "\n",
    "# or in a loop\n",
    "for i in range(len(selected_data)):\n",
    "    date = selected_data.iloc[i].date\n",
    "    month =  selected_data.iloc[i].month\n",
    "    year =  selected_data.iloc[i].year\n",
    "    mouse = selected_data.iloc[i].mouse_id\n",
    "    folder_structure = str(date) + '.' + str(month) + '.'+ str(year) + '/animal_' + str(mouse)\n",
    "    side = selected_data.iloc[i].side\n",
    "    if side == 0:\n",
    "        folder_structure = folder_structure + '/left/'\n",
    "    else:\n",
    "        folder_structure = folder_structure + '/right/'\n",
    "    example = int(selected_data.iloc[i].example)\n",
    "    \n",
    "    file_path = directory_path +'data/' + folder_structure + str(example) + '_' + selected_data.iloc[i].red_file_name\n",
    "    filesname_red = file_path\n",
    "    file_path = directory_path +'data/' + folder_structure + str(example) + '_' + selected_data.iloc[i].green_file_name\n",
    "    filesname_green = file_path\n",
    "    \n",
    "    if not os.path.exists(filesname_red + '.tif') or not os.path.exists(filesname_green + '.tif'):\n",
    "        print(filesname_red + 'does not exist')\n",
    "    else:\n",
    "        print(filesname_red)\n",
    "        img = io.imread(filesname_red + '.tif')\n",
    "        masks, flows, styles, diams = model.eval(img, diameter=diameter, channels=channels)\n",
    "        # save results so you can load in gui\n",
    "        #io.masks_flows_to_seg(img, masks, flows, diams, filename, channels)\n",
    "        # save results as png\n",
    "        #flows_list.append(flows)\n",
    "        io.save_to_png(img, masks, flows, filesname_red)"
   ]
  },
  {
   "cell_type": "code",
   "execution_count": 26,
   "id": "1dff9734",
   "metadata": {},
   "outputs": [
    {
     "data": {
      "text/plain": [
       "1024"
      ]
     },
     "execution_count": 26,
     "metadata": {},
     "output_type": "execute_result"
    }
   ],
   "source": [
    "min(img.shape)"
   ]
  },
  {
   "cell_type": "code",
   "execution_count": 17,
   "id": "d8037fb0",
   "metadata": {},
   "outputs": [],
   "source": [
    "### THIS WILL PLOT FOR ALL SELECTED DATA orginal image and masks on top for red and green\n",
    "### with red colors the ones rejected by CELLSIZE limit and in BLUE the accepted ones\n",
    "from cellpose import plot\n",
    "from cellpose import utils, io, transforms\n",
    "from cellpose.plot import image_to_rgb, mask_overlay\n",
    "\n",
    "# or in a loop\n",
    "chan = CHANNELS\n",
    "channels = CHANNELS\n",
    "for i in range(len(selected_data)):\n",
    "    date = selected_data.iloc[i].date\n",
    "    month =  selected_data.iloc[i].month\n",
    "    year =  selected_data.iloc[i].year\n",
    "    mouse = selected_data.iloc[i].mouse_id\n",
    "    folder_structure = str(date) + '.' + str(month) + '.'+ str(year) + '/animal_' + str(mouse)\n",
    "    side = selected_data.iloc[i].side\n",
    "    if side == 0:\n",
    "        folder_structure = folder_structure + '/left/'\n",
    "        figure_name = str(date) + '.' + str(month) + '.'+ str(year) + '_animal_' + str(mouse) + '_left_'\n",
    "    else:\n",
    "        folder_structure = folder_structure + '/right/'\n",
    "        figure_name = str(date) + '.' + str(month) + '.'+ str(year) + '_animal_' + str(mouse) + '_right_'\n",
    "\n",
    "    example = selected_data.iloc[i].example\n",
    "    figure_name = figure_name + '_example_' + str(selected_data.iloc[i].example)\n",
    "    file_path = directory_path +'data/' + folder_structure + str(example) + '_' + selected_data.iloc[i].red_file_name\n",
    "    filesname = file_path \n",
    "    file_path = directory_path +'data/' + folder_structure + str(example) + '_' + selected_data.iloc[i].green_file_name\n",
    "    filesname_2 = file_path\n",
    "    mask_name = filesname + '_cp_masks.png'\n",
    "    print(mask_name)\n",
    "    if not os.path.exists(filesname + '.tif') or not os.path.exists(filesname_2 + '.tif') or not os.path.exists(mask_name):\n",
    "        print('FILE does NOT exist')\n",
    "    else:\n",
    "        img = io.imread(filesname + '.tif')\n",
    "        masks = io.imread(mask_name)\n",
    "        img2 = io.imread(filesname_2 + '.tif')\n",
    "        ncells = np.max(masks)\n",
    "        print(ncells)\n",
    "        fig, axes = plt.subplots(2,2)\n",
    "        img0 = img.copy()\n",
    "        if img0.shape[0] < 4:\n",
    "            img0 = np.transpose(img0, (1,2,0))\n",
    "        if img0.shape[-1] < 3 or img0.ndim < 3:\n",
    "            img0 = image_to_rgb(img0, channels=channels)\n",
    "        else:\n",
    "            if img0.max()<=50.0:\n",
    "                img0 = np.uint8(np.clip(img0*255, 0, 1))\n",
    "\n",
    "        axes[0,0].imshow(img0)\n",
    "        axes[0,0].set_title('RED CHANNEL')\n",
    "        axes[0,0].axis('off')\n",
    "        mask_copy = np.zeros_like(masks)\n",
    "        for cell_num in range(1,ncells):\n",
    "            cell_mask = np.where(masks == cell_num)\n",
    "            cellsize = len(cell_mask[0])\n",
    "            if cellsize >= 250:\n",
    "                mask_copy[np.where(masks == cell_num)] = cell_num\n",
    "        #        print(cell_num)\n",
    "        #print(np.max(mask_copy))\n",
    "        \n",
    "        outlines = utils.masks_to_outlines(masks)\n",
    "        #overlay = mask_overlay(img0, masks)\n",
    "        outX, outY = np.nonzero(outlines)\n",
    "        imgout= img0.copy()\n",
    "        imgout[outX, outY] = np.array([255,0,0]) # pure red\n",
    "        outlines = utils.masks_to_outlines(mask_copy)\n",
    "        #overlay = mask_overlay(img0, masks)\n",
    "        outX, outY = np.nonzero(outlines)\n",
    "        imgout[outX, outY] = np.array([0,0,255]) # pure blue\n",
    "        \n",
    "        axes[0,1].imshow(imgout)\n",
    "        axes[0,1].set_title('PREDITION')\n",
    "        axes[0,1].axis('off')\n",
    "\n",
    "        #axes[0,1].imshow(imgout)\n",
    "        #axes[0,1].set_title('PREDITION')\n",
    "        #axes[0,1].axis('off')\n",
    "\n",
    "        img0 = img2.copy()\n",
    "        if img0.shape[0] < 4:\n",
    "            img0 = np.transpose(img0, (1,2,0))\n",
    "        if img0.shape[-1] < 3 or img0.ndim < 3:\n",
    "            img0 = image_to_rgb(img0, channels=channels)\n",
    "        else:\n",
    "            if img0.max()<=50.0:\n",
    "                img0 = np.uint8(np.clip(img0*255, 0, 1))\n",
    "\n",
    "        \n",
    "        axes[1,0].imshow(img0)\n",
    "        axes[1,0].set_title('GREEN CHANNEL')\n",
    "        axes[1,0].axis('off')\n",
    "\n",
    "        outlines = utils.masks_to_outlines(masks)\n",
    "        #overlay = mask_overlay(img0, masks)\n",
    "        outX, outY = np.nonzero(outlines)\n",
    "        imgout= img0.copy()\n",
    "        imgout[outX, outY] = np.array([255,0,0]) # pure red\n",
    "        outlines = utils.masks_to_outlines(mask_copy)\n",
    "        #overlay = mask_overlay(img0, masks)\n",
    "        outX, outY = np.nonzero(outlines)\n",
    "        imgout[outX, outY] = np.array([0,0,255]) # pure blue        \n",
    "        \n",
    "        axes[1,1].imshow(imgout)\n",
    "        axes[1,1].set_title('PREDITION')\n",
    "        axes[1,1].axis('off')\n",
    "\n",
    "        plt.tight_layout()\n",
    "        fig.savefig(directory_path + 'figures/'+ figure_name + '_ncells_' + str(ncells) + '.png')"
   ]
  },
  {
   "cell_type": "code",
   "execution_count": null,
   "id": "fed42ccf",
   "metadata": {},
   "outputs": [],
   "source": []
  },
  {
   "cell_type": "code",
   "execution_count": null,
   "id": "38279413",
   "metadata": {},
   "outputs": [],
   "source": [
    "\n"
   ]
  },
  {
   "cell_type": "code",
   "execution_count": null,
   "id": "e602bdf3",
   "metadata": {},
   "outputs": [],
   "source": []
  },
  {
   "cell_type": "code",
   "execution_count": null,
   "id": "b06471ba",
   "metadata": {
    "scrolled": true
   },
   "outputs": [],
   "source": []
  },
  {
   "cell_type": "code",
   "execution_count": null,
   "id": "85ea17a2",
   "metadata": {},
   "outputs": [],
   "source": []
  },
  {
   "cell_type": "code",
   "execution_count": null,
   "id": "17a1ede3",
   "metadata": {},
   "outputs": [],
   "source": []
  },
  {
   "cell_type": "code",
   "execution_count": null,
   "id": "24ac5299",
   "metadata": {},
   "outputs": [],
   "source": []
  },
  {
   "cell_type": "code",
   "execution_count": null,
   "id": "50fe308f",
   "metadata": {},
   "outputs": [],
   "source": []
  },
  {
   "cell_type": "code",
   "execution_count": null,
   "id": "eca5c2a0",
   "metadata": {},
   "outputs": [],
   "source": []
  },
  {
   "cell_type": "code",
   "execution_count": null,
   "id": "f7cd1d72",
   "metadata": {},
   "outputs": [],
   "source": []
  },
  {
   "cell_type": "code",
   "execution_count": null,
   "id": "ce08880e",
   "metadata": {},
   "outputs": [],
   "source": []
  },
  {
   "cell_type": "code",
   "execution_count": null,
   "id": "3caf58c4",
   "metadata": {},
   "outputs": [],
   "source": []
  },
  {
   "cell_type": "code",
   "execution_count": null,
   "id": "0d1154d7",
   "metadata": {},
   "outputs": [],
   "source": []
  },
  {
   "cell_type": "code",
   "execution_count": null,
   "id": "fbc8db09",
   "metadata": {
    "scrolled": false
   },
   "outputs": [],
   "source": []
  },
  {
   "cell_type": "code",
   "execution_count": null,
   "id": "b0d4c107",
   "metadata": {},
   "outputs": [],
   "source": []
  },
  {
   "cell_type": "code",
   "execution_count": null,
   "id": "e40a619f",
   "metadata": {},
   "outputs": [],
   "source": []
  },
  {
   "cell_type": "code",
   "execution_count": null,
   "id": "59c86e7e",
   "metadata": {},
   "outputs": [],
   "source": []
  },
  {
   "cell_type": "code",
   "execution_count": null,
   "id": "edcb56eb",
   "metadata": {},
   "outputs": [],
   "source": []
  },
  {
   "cell_type": "code",
   "execution_count": null,
   "id": "d4a6fcb6",
   "metadata": {},
   "outputs": [],
   "source": []
  },
  {
   "cell_type": "code",
   "execution_count": null,
   "id": "71a8bdeb",
   "metadata": {},
   "outputs": [],
   "source": []
  }
 ],
 "metadata": {
  "kernelspec": {
   "display_name": "Python 3 (ipykernel)",
   "language": "python",
   "name": "python3"
  },
  "language_info": {
   "codemirror_mode": {
    "name": "ipython",
    "version": 3
   },
   "file_extension": ".py",
   "mimetype": "text/x-python",
   "name": "python",
   "nbconvert_exporter": "python",
   "pygments_lexer": "ipython3",
   "version": "3.8.16"
  }
 },
 "nbformat": 4,
 "nbformat_minor": 5
}
